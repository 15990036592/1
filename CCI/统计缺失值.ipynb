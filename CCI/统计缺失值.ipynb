{
 "cells": [
  {
   "cell_type": "code",
   "execution_count": 1,
   "id": "initial_id",
   "metadata": {
    "ExecuteTime": {
     "end_time": "2024-05-09T03:59:24.635931600Z",
     "start_time": "2024-05-09T03:59:23.413205600Z"
    }
   },
   "outputs": [],
   "source": [
    "import  pandas as pd\n",
    "import numpy as np\n",
    "import matplotlib.pyplot as plt"
   ]
  },
  {
   "cell_type": "code",
   "execution_count": 2,
   "id": "d9848ccb73233906",
   "metadata": {
    "ExecuteTime": {
     "end_time": "2024-05-09T03:59:41.884874500Z",
     "start_time": "2024-05-09T03:59:26.044031900Z"
    },
    "collapsed": false,
    "jupyter": {
     "outputs_hidden": false
    }
   },
   "outputs": [],
   "source": [
    "import os\n",
    "\n",
    "import pandas as pd\n",
    "data = pd.read_excel('data_0.25.xlsx')\n",
    "data_val = pd.read_excel('validation_0.25.xlsx')\n",
    "Age=[\n",
    "      [[\"min\",18],0],\n",
    "      [[18,30],1],\n",
    "      [[30,39],2],\n",
    "      [[39,49],3],\n",
    "      [[49,59],4],\n",
    "      [[59,69],5],\n",
    "      [[69,79],6],\n",
    "      [[79,\"max\"],7]\n",
    "    ]\n",
    "\n",
    "for i,j in Age:\n",
    "    \n",
    "    section = i\n",
    "        \n",
    "    new = j\n",
    "    if \"min\" in section:\n",
    "        data.loc[data['Age'] < section[1],'Age'] = new\n",
    "        data_val.loc[data_val['Age'] < section[1],'Age'] = new\n",
    "    elif \"max\" in section:\n",
    "        data.loc[data['Age'] > section[0],'Age'] = new\n",
    "        data_val.loc[data_val['Age'] > section[0],'Age'] = new\n",
    "    else:\n",
    "        data.loc[(data['Age']>=section[0]) & (data['Age']<=section[1]),'Age'] = new\n",
    "        data_val.loc[(data_val['Age']>=section[0]) & (data_val['Age']<=section[1]),'Age'] = new\n",
    "    "
   ]
  },
  {
   "cell_type": "code",
   "execution_count": 3,
   "id": "d0945aa0bdbf32cd",
   "metadata": {
    "ExecuteTime": {
     "end_time": "2024-05-09T04:00:38.728713900Z",
     "start_time": "2024-05-09T04:00:38.714714400Z"
    },
    "collapsed": false,
    "jupyter": {
     "outputs_hidden": false
    }
   },
   "outputs": [],
   "source": [
    "class_age  = data.groupby(by=['Age'])"
   ]
  },
  {
   "cell_type": "code",
   "execution_count": 4,
   "id": "784cede97ff8d77c",
   "metadata": {
    "ExecuteTime": {
     "end_time": "2024-05-09T04:06:25.826928100Z",
     "start_time": "2024-05-09T04:06:25.793005900Z"
    },
    "collapsed": false,
    "jupyter": {
     "outputs_hidden": false
    }
   },
   "outputs": [],
   "source": [
    "x_dic = {}\n",
    "for i,j in class_age:\n",
    "    temp = pd.DataFrame(j)\n",
    "    temp = temp.isnull().sum(axis=0)\n",
    "\n",
    "    x_dic[i] = temp\n",
    "    \n",
    "    \n",
    "    "
   ]
  },
  {
   "cell_type": "code",
   "execution_count": 7,
   "id": "d771335df12bd787",
   "metadata": {
    "ExecuteTime": {
     "end_time": "2024-05-09T04:36:49.245917800Z",
     "start_time": "2024-05-09T04:36:49.227909500Z"
    },
    "collapsed": false,
    "jupyter": {
     "outputs_hidden": false
    }
   },
   "outputs": [],
   "source": [
    "def plot_(dic_):\n",
    "    \n",
    "    \n",
    "    \n",
    "    \n",
    "    labels = list(dic_.keys())\n",
    "    data = [i.tolist() for i in dic_.values()]\n",
    "    \n",
    "    for i in labels:\n",
    "        nums = dic_[i].copy()\n",
    "        mean = nums.mean()\n",
    "        std = nums.std()\n",
    "        \n",
    "        up = mean + 2.5*std\n",
    "        low = mean - 2.5*std\n",
    "        \n",
    "        nums[(nums>up) | (nums<low)] = 0\n",
    "        \n",
    "\n",
    "        nums.to_excel(f'{i}缺失值离群情况.xlsx')\n",
    "        \n",
    "        \n",
    "        \n",
    "    plt.rcParams['font.sans-serif'] = ['SimHei']  # 设置默认字体为宋体\n",
    "    plt.rcParams['axes.unicode_minus'] = False \n",
    "    plt.xlabel('Age group')\n",
    "    plt.ylabel('Number of outliers')\n",
    "    plt.grid(True)  # 显示网格\n",
    "    plt.boxplot(data,\n",
    "            medianprops={'color': 'red', 'linewidth': '1.5'},\n",
    "            meanline=True,\n",
    "            showmeans=True,\n",
    "            meanprops={'color': 'blue', 'ls': '--', 'linewidth': '1.5'},\n",
    "            flierprops={\"marker\": \"o\", \"markerfacecolor\": \"red\", \"markersize\": 10},\n",
    "            labels=labels)\n",
    "    plt.savefig('output.tif', dpi=300)\n",
    "    plt.show()"
   ]
  },
  {
   "cell_type": "code",
   "execution_count": 8,
   "id": "20ab6c8aec62fee6",
   "metadata": {
    "ExecuteTime": {
     "end_time": "2024-05-09T04:36:51.472187100Z",
     "start_time": "2024-05-09T04:36:51.003740100Z"
    },
    "collapsed": false,
    "jupyter": {
     "outputs_hidden": false
    }
   },
   "outputs": [
    {
     "data": {
      "image/png": "[encoded data removed]",
      "text/plain": [
       "<Figure size 640x480 with 1 Axes>"
      ]
     },
     "metadata": {},
     "output_type": "display_data"
    }
   ],
   "source": [
    "plot_(x_dic)"
   ]
  },
  {
   "cell_type": "code",
   "execution_count": null,
   "id": "588b3bd16dad5e93",
   "metadata": {
    "collapsed": false,
    "jupyter": {
     "outputs_hidden": false
    }
   },
   "outputs": [],
   "source": []
  },
  {
   "cell_type": "code",
   "execution_count": null,
   "id": "95e870eb750513bb",
   "metadata": {
    "collapsed": false,
    "jupyter": {
     "outputs_hidden": false
    }
   },
   "outputs": [],
   "source": []
  }
 ],
 "metadata": {
  "kernelspec": {
   "display_name": "Python 3 (ipykernel)",
   "language": "python",
   "name": "python3"
  },
  "language_info": {
   "codemirror_mode": {
    "name": "ipython",
    "version": 3
   },
   "file_extension": ".py",
   "mimetype": "text/x-python",
   "name": "python",
   "nbconvert_exporter": "python",
   "pygments_lexer": "ipython3",
   "version": "3.8.0"
  },
  "widgets": {
   "application/vnd.jupyter.widget-state+json": {
    "state": {},
    "version_major": 2,
    "version_minor": 0
   }
  }
 },
 "nbformat": 4,
 "nbformat_minor": 5
}
